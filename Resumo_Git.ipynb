{
 "cells": [
  {
   "cell_type": "markdown",
   "metadata": {},
   "source": [
    "# RESUMO GIT"
   ]
  },
  {
   "cell_type": "markdown",
   "metadata": {},
   "source": [
    "## ACOUNTS GIT\n",
    "\n",
    "### Github\n",
    "\n",
    "email: adriana.bigdata@gmail.com\n",
    "\n",
    "pwd: EuSouR1ca\n",
    "\n",
    "Username: SoaresAdriana\n",
    "\n",
    "### Bitbucket\n",
    "\n",
    "email: adriana.bigdata@gmail.com\n",
    "\n",
    "pwd: EuSouR1ca\n",
    "\n",
    "Username: SoaresAdriana"
   ]
  },
  {
   "cell_type": "markdown",
   "metadata": {},
   "source": [
    "## Para que serve o Git\n",
    "\n",
    "#### Git é o sistema de controle de versão open source mais usado no mundo atualmente. Ele é usado para controlar o histórico de alterações de arquivos e principalmente, de projetos de desenvolvimento de software. Ele permite meis flexibilidade no fluxo de trabalho, segurança e desempenho."
   ]
  },
  {
   "cell_type": "markdown",
   "metadata": {},
   "source": [
    "## Principais Comandos GIT\n",
    "\n",
    "### git init\n",
    "\n",
    "### git status\n",
    "\n",
    "### git commit -m\n",
    "\n",
    "### git push\n",
    "\n",
    "### git pull\n",
    "\n",
    "### git clone\n",
    "\n",
    "### git fetch\n",
    "\n",
    "### git branch\n",
    "\n",
    "### git checkout\n",
    "\n",
    "### git merge\n",
    "\n",
    "### git remote\n",
    "\n",
    "### git reset\n",
    "\n",
    "### git stash"
   ]
  },
  {
   "cell_type": "markdown",
   "metadata": {},
   "source": [
    "### Git init\n",
    "Cria um repositorio vazio e reinicializa un existente.\n",
    "### Git status\n",
    "Verifica o estado do repositótio\n",
    "### Git add\n",
    "Adiciona um file ou pasta no repository\n",
    "### Git commit -m\n",
    "Nomeia alterações, adições e envie mensagens no repositório\n",
    "### Git push\n",
    "Esse comando é usado para enviar o conteúdo do repositório local para um repositório remoto. O comando push transfere commits do repositorio local a um repositório remoto.\n",
    "### Git pull\n",
    "É um comando usado para buscar a baixar conteúdo de repositório remoto e fazer atualizações imediatas ao repositório local para que os conteúdos sejam iguais. Fazer merge de atualizações upstream remotas no repositório local é algo comum em fluxos de trabalho de colocação baseado em git.\n",
    "### Git clone\n",
    "É um comendo usado para apontar um repositório existente a fazer um clone ou cópia deste repositório no novo diretório, em outro local... O comendo git clone copia um repositório do git já exigente.\n",
    "### Git fetch\n",
    "É um comendo usado para baixar conteúdos de um repositório remoto. Este comando é usado em conjunto com git remote, git branch, git checkout, git reset para atualizar um repositório local ao estado de um remoto.\n",
    "### Git branch\n",
    "O comando git branch permite criar, renomear e excluir ramificações. Ele não permite alternar entre ramificações ou reunir um histórico bifurcado de novo. Por esse motivo o git branch é muito integrado com as git checkout e git merge\n",
    "### Git checkout\n",
    "O git checkout é uma forma de alternar entre versões de arquivos, commits ou branches. Ele tem diferentes formas de usar, mas seus dois principais usos são: trocar de branch ou restaurar arquivos. Quando você está em um branch e quer trocar para outro você pode usá-lo.\n",
    "### Git merge\n",
    "O comando git merge permite que você pegue as linhas de desenvolvimento independente criadas pelo git branch e as integre a uma ramificação única... O branch atual vai ser atualizado para refletir a mesclagem, mas o branch alvo vai sofrer alterações.\n",
    "### Git remote\n",
    "Utiliza-se um git remote add para adicionar o repositório se não existe nenhum. Isso é útil quando se deseja iniciar um repositório localmente con git init e em seguida é necessário enviá-lo para um repositório remoto mais tarde. \n",
    "### Git reset\n",
    "O principal uso do git reset é para desfazer as alterações pendentes do indice de staging de volta para o diretório de trabalho.\n",
    "### Git stash\n",
    "O git stash tira a sujeira do diretório de trabalho - isto é, seus arquivos modificados que estão sendo rastreados e mudanças nas áreas de seleção - e o salva em uma pilha de modificações que você pode voltar a qualquer momento."
   ]
  },
  {
   "cell_type": "code",
   "execution_count": null,
   "metadata": {},
   "outputs": [],
   "source": []
  }
 ],
 "metadata": {
  "kernelspec": {
   "display_name": "Python 3",
   "language": "python",
   "name": "python3"
  },
  "language_info": {
   "codemirror_mode": {
    "name": "ipython",
    "version": 3
   },
   "file_extension": ".py",
   "mimetype": "text/x-python",
   "name": "python",
   "nbconvert_exporter": "python",
   "pygments_lexer": "ipython3",
   "version": "3.8.5"
  }
 },
 "nbformat": 4,
 "nbformat_minor": 4
}
