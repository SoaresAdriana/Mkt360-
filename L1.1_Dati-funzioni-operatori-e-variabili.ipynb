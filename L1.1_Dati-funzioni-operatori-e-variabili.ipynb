{
 "cells": [
  {
   "cell_type": "markdown",
   "metadata": {},
   "source": [
    "# Continuazione della prima lezione di Python"
   ]
  },
  {
   "cell_type": "markdown",
   "metadata": {},
   "source": [
    "## Stringhe, numeri e tipi di dati\n"
   ]
  },
  {
   "cell_type": "code",
   "execution_count": 1,
   "metadata": {},
   "outputs": [
    {
     "data": {
      "text/plain": [
       "str"
      ]
     },
     "execution_count": 1,
     "metadata": {},
     "output_type": "execute_result"
    }
   ],
   "source": [
    "type(\"Questa è una stringa\")"
   ]
  },
  {
   "cell_type": "code",
   "execution_count": 2,
   "metadata": {},
   "outputs": [
    {
     "data": {
      "text/plain": [
       "int"
      ]
     },
     "execution_count": 2,
     "metadata": {},
     "output_type": "execute_result"
    }
   ],
   "source": [
    "type(42)\n"
   ]
  },
  {
   "cell_type": "markdown",
   "metadata": {},
   "source": [
    "#### I dati semplice di Python sono i seguenti (tra parentesi il terminale identificativo):\n",
    "\n",
    ">> interi (int)\n",
    ">> interi lunghi (long)\n",
    ">> numeri in virgola mobile (float)\n",
    ">> numeri complessi (complex)\n",
    ">> valori booleani (bool)\n",
    "\n",
    "#### Queste invece, le sequenze (che approfondiremo piú avanti nel capitolo):\n",
    "\n",
    ">> sequenze immutabili:\n",
    "\n",
    "   • stringhe (str)\n",
    "   • tuple (tuple)\n",
    "   • insiemi immutabili (frozenset)\n",
    "   \n",
    ">> sequenze multabile:\n",
    "\n",
    "   • liste (list)\n",
    "   • dizionari (dict)\n",
    "   • insiemi (set)\n",
    "   \n",
    ">> file (file)"
   ]
  },
  {
   "cell_type": "code",
   "execution_count": 3,
   "metadata": {},
   "outputs": [
    {
     "name": "stdout",
     "output_type": "stream",
     "text": [
      "1234123412341234123412341234123412341235\n"
     ]
    }
   ],
   "source": [
    "print(1234123412341234123412341234123412341234+1)"
   ]
  },
  {
   "cell_type": "code",
   "execution_count": 4,
   "metadata": {},
   "outputs": [
    {
     "data": {
      "text/plain": [
       "'0b10000000'"
      ]
     },
     "execution_count": 4,
     "metadata": {},
     "output_type": "execute_result"
    }
   ],
   "source": [
    "bin(128)"
   ]
  },
  {
   "cell_type": "code",
   "execution_count": 6,
   "metadata": {},
   "outputs": [
    {
     "data": {
      "text/plain": [
       "128"
      ]
     },
     "execution_count": 6,
     "metadata": {},
     "output_type": "execute_result"
    }
   ],
   "source": [
    "int('0b10000000',2)"
   ]
  },
  {
   "cell_type": "code",
   "execution_count": 7,
   "metadata": {},
   "outputs": [
    {
     "data": {
      "text/plain": [
       "'0x3f'"
      ]
     },
     "execution_count": 7,
     "metadata": {},
     "output_type": "execute_result"
    }
   ],
   "source": [
    "hex(63)"
   ]
  },
  {
   "cell_type": "code",
   "execution_count": 8,
   "metadata": {},
   "outputs": [
    {
     "data": {
      "text/plain": [
       "'0x3f'"
      ]
     },
     "execution_count": 8,
     "metadata": {},
     "output_type": "execute_result"
    }
   ],
   "source": [
    "hex(0b111111)"
   ]
  },
  {
   "cell_type": "code",
   "execution_count": 9,
   "metadata": {},
   "outputs": [
    {
     "data": {
      "text/plain": [
       "63"
      ]
     },
     "execution_count": 9,
     "metadata": {},
     "output_type": "execute_result"
    }
   ],
   "source": [
    "int('0x3f',16)"
   ]
  },
  {
   "cell_type": "code",
   "execution_count": 10,
   "metadata": {},
   "outputs": [
    {
     "data": {
      "text/plain": [
       "3"
      ]
     },
     "execution_count": 10,
     "metadata": {},
     "output_type": "execute_result"
    }
   ],
   "source": [
    "int(3.14)"
   ]
  },
  {
   "cell_type": "code",
   "execution_count": 11,
   "metadata": {},
   "outputs": [
    {
     "data": {
      "text/plain": [
       "3.142"
      ]
     },
     "execution_count": 11,
     "metadata": {},
     "output_type": "execute_result"
    }
   ],
   "source": [
    "round(3.14159,3)"
   ]
  },
  {
   "cell_type": "markdown",
   "metadata": {},
   "source": [
    "### Liste"
   ]
  },
  {
   "cell_type": "markdown",
   "metadata": {},
   "source": [
    "##### Le liste sono multabili, ovvero il cui cotenuto puó essere modificato. Una lista viene racchiusa fra parentesi quadre e suoi elementi sono separati da virgole. Naturalmente puó contenere sia  valore numerici sia stringhe, quindi possiamo considerate stringhe entrambe le sequenze che seguono:"
   ]
  },
  {
   "cell_type": "markdown",
   "metadata": {},
   "source": [
    "##### Possiamo definire una lista come una sequenza mutabile di elementi."
   ]
  },
  {
   "cell_type": "code",
   "execution_count": 28,
   "metadata": {},
   "outputs": [
    {
     "data": {
      "text/plain": [
       "['ciao', 'mondo', 'buongorno', 'universo', 'come', 'va']"
      ]
     },
     "execution_count": 28,
     "metadata": {},
     "output_type": "execute_result"
    }
   ],
   "source": [
    "[1,2,8,36,48,52]\n",
    "[\"ciao\",\"mondo\",\"buongorno\",\"universo\",\"come\",\"va\"]"
   ]
  },
  {
   "cell_type": "code",
   "execution_count": 29,
   "metadata": {},
   "outputs": [
    {
     "data": {
      "text/plain": [
       "['ciao', 'mondo', True, 'universo', 3]"
      ]
     },
     "execution_count": 29,
     "metadata": {},
     "output_type": "execute_result"
    }
   ],
   "source": [
    "[\"ciao\",\"mondo\", True, \"universo\",3]"
   ]
  },
  {
   "cell_type": "markdown",
   "metadata": {},
   "source": [
    "### Tuple"
   ]
  },
  {
   "cell_type": "markdown",
   "metadata": {},
   "source": [
    "##### La differenza delle liste, le tuple sono sequenze immutabile e vengono racchiuse all'interno di parentesi tonde."
   ]
  },
  {
   "cell_type": "markdown",
   "metadata": {},
   "source": [
    "##### Usando gli stessi elementi già visti nell'esempio delle liste, avremo quindi:"
   ]
  },
  {
   "cell_type": "code",
   "execution_count": 15,
   "metadata": {},
   "outputs": [
    {
     "data": {
      "text/plain": [
       "('ciao', 'mondo', 'buongiorno', True, 'universo', 3)"
      ]
     },
     "execution_count": 15,
     "metadata": {},
     "output_type": "execute_result"
    }
   ],
   "source": [
    "(1,2,8,36,48,52)\n",
    "(\"ciao\",\"mondo\",\"buongiorno\",\"universo\",\"come va\")\n",
    "(\"ciao\",\"mondo\",\"buongiorno\",True,\"universo\",3)"
   ]
  },
  {
   "cell_type": "markdown",
   "metadata": {},
   "source": [
    "### Insiemi"
   ]
  },
  {
   "cell_type": "markdown",
   "metadata": {},
   "source": [
    "##### Gli insieme, in inglese set, sono l'inico tipo di sequenza disponibili sia modalità mutabile sia immutabile e in questo secondo caso prendono il nome di frozenset (\"frozen\" in inglese significa \"congelato\"). Si tratta di elementi che fanno riferimenti proprio all'omonimo tipo di dato presente in matematica e come taline condividono le caratteritiche."
   ]
  },
  {
   "cell_type": "markdown",
   "metadata": {},
   "source": [
    "##### Anche questi tipi di dati sono composti elementi divisi tra loro per mezzo di virgole, ma le parentesi ittilizzate per definirlo sono quelle graffe, per cui avremo, per esempio:"
   ]
  },
  {
   "cell_type": "code",
   "execution_count": 25,
   "metadata": {},
   "outputs": [
    {
     "data": {
      "text/plain": [
       "{1, 2, 8, 36, 48, 52}"
      ]
     },
     "execution_count": 25,
     "metadata": {},
     "output_type": "execute_result"
    }
   ],
   "source": [
    "{1,2,8,36,48,52}"
   ]
  },
  {
   "cell_type": "code",
   "execution_count": 26,
   "metadata": {},
   "outputs": [
    {
     "data": {
      "text/plain": [
       "{'buongiorno', 'ciao', 'come va', 'mondo', 'universo'}"
      ]
     },
     "execution_count": 26,
     "metadata": {},
     "output_type": "execute_result"
    }
   ],
   "source": [
    "{\"ciao\",\"mondo\",\"buongiorno\",\"universo\",\"come va\"}"
   ]
  },
  {
   "cell_type": "code",
   "execution_count": 18,
   "metadata": {},
   "outputs": [
    {
     "data": {
      "text/plain": [
       "{1, 2, 3, 4, 5, 6}"
      ]
     },
     "execution_count": 18,
     "metadata": {},
     "output_type": "execute_result"
    }
   ],
   "source": [
    "set([1,2,3,4,5,1,2,3,4,5,6])"
   ]
  },
  {
   "cell_type": "code",
   "execution_count": 20,
   "metadata": {},
   "outputs": [
    {
     "data": {
      "text/plain": [
       "frozenset({1, 2, 3, 4, 5, 6})"
      ]
     },
     "execution_count": 20,
     "metadata": {},
     "output_type": "execute_result"
    }
   ],
   "source": [
    "frozenset({1, 2, 3, 4, 5, 6})\n"
   ]
  },
  {
   "cell_type": "markdown",
   "metadata": {},
   "source": [
    "### Dizionari"
   ]
  },
  {
   "cell_type": "markdown",
   "metadata": {},
   "source": [
    "##### I dizionari sono un tipo di dato molto interessante e in un certo senso danno l'idea delle potenzialità di Python nella gestione di dati complessi. Anche queste sequenze sono reacchiuse fra parentesi graffe come gli insiemi, ma a differenza di questi ultimi i loro elementi sono disposti a coppie."
   ]
  },
  {
   "cell_type": "markdown",
   "metadata": {},
   "source": [
    "##### In ogno dizionario,infatti, troviamo sequenze di due elementi, dei quali il primo è la chiave (key) e il secondo il valore (value), con il segno dei due punti in cui per ogni nomi di un prodotto associamo il relativo costo, oppure in cui, proprio come in un vocabolario o dizionario tradizionale, a ogni vocabolo associamo la relativa definizione o traduzione."
   ]
  },
  {
   "cell_type": "markdown",
   "metadata": {},
   "source": [
    "##### Ecco due esempi, che ovviamente hanno il solo abiettivo di mostrare quello che potrebbe essere il contenuto dei dizionari apppena descriti:"
   ]
  },
  {
   "cell_type": "code",
   "execution_count": 23,
   "metadata": {},
   "outputs": [
    {
     "data": {
      "text/plain": [
       "{'padella': 3500, 'cuscino': 1500, 'tavolo': 25000, 'sedia': 7500}"
      ]
     },
     "execution_count": 23,
     "metadata": {},
     "output_type": "execute_result"
    }
   ],
   "source": [
    "{\"padella\":3500,\"cuscino\":1500,\"tavolo\":25000,\"sedia\":7500}"
   ]
  },
  {
   "cell_type": "code",
   "execution_count": 24,
   "metadata": {},
   "outputs": [
    {
     "data": {
      "text/plain": [
       "{'squalo': 'pesce',\n",
       " 'quercia': 'albero',\n",
       " 'seppia': 'mollusco',\n",
       " 'cane': 'dog',\n",
       " 'gatto': 'cat',\n",
       " 'albero': 'tree'}"
      ]
     },
     "execution_count": 24,
     "metadata": {},
     "output_type": "execute_result"
    }
   ],
   "source": [
    "{\"squalo\":\"pesce\",\"quercia\":\"albero\",\"seppia\":\"mollusco\",\"cane\":\"dog\",\"gatto\":\"cat\",\"albero\":\"tree\"}"
   ]
  },
  {
   "cell_type": "code",
   "execution_count": null,
   "metadata": {},
   "outputs": [],
   "source": []
  }
 ],
 "metadata": {
  "kernelspec": {
   "display_name": "Python 3",
   "language": "python",
   "name": "python3"
  },
  "language_info": {
   "codemirror_mode": {
    "name": "ipython",
    "version": 3
   },
   "file_extension": ".py",
   "mimetype": "text/x-python",
   "name": "python",
   "nbconvert_exporter": "python",
   "pygments_lexer": "ipython3",
   "version": "3.8.5"
  }
 },
 "nbformat": 4,
 "nbformat_minor": 4
}
